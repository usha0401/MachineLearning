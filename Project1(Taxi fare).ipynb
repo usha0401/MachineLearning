{
 "cells": [
  {
   "cell_type": "code",
   "execution_count": 1,
   "id": "582edf20",
   "metadata": {},
   "outputs": [],
   "source": [
    "import numpy as np\n",
    "import pandas as pd\n",
    "import matplotlib.pyplot as plt\n",
    "%matplotlib inline\n",
    "import seaborn as sns\n",
    "from sklearn.model_selection import train_test_split\n",
    "from sklearn.linear_model import LinearRegression"
   ]
  },
  {
   "cell_type": "code",
   "execution_count": 2,
   "id": "1e0b9518",
   "metadata": {},
   "outputs": [],
   "source": [
    "df=pd.read_csv(\"https://raw.githubusercontent.com/Premalatha-success/Datasets/main/TaxiFare.csv\")"
   ]
  },
  {
   "cell_type": "code",
   "execution_count": 36,
   "id": "e10917c6",
   "metadata": {},
   "outputs": [
    {
     "data": {
      "text/plain": [
       "(50000, 8)"
      ]
     },
     "execution_count": 36,
     "metadata": {},
     "output_type": "execute_result"
    }
   ],
   "source": [
    "df.shape"
   ]
  },
  {
   "cell_type": "code",
   "execution_count": 37,
   "id": "a4313e54",
   "metadata": {
    "scrolled": false
   },
   "outputs": [
    {
     "data": {
      "text/html": [
       "<div>\n",
       "<style scoped>\n",
       "    .dataframe tbody tr th:only-of-type {\n",
       "        vertical-align: middle;\n",
       "    }\n",
       "\n",
       "    .dataframe tbody tr th {\n",
       "        vertical-align: top;\n",
       "    }\n",
       "\n",
       "    .dataframe thead th {\n",
       "        text-align: right;\n",
       "    }\n",
       "</style>\n",
       "<table border=\"1\" class=\"dataframe\">\n",
       "  <thead>\n",
       "    <tr style=\"text-align: right;\">\n",
       "      <th></th>\n",
       "      <th>unique_id</th>\n",
       "      <th>amount</th>\n",
       "      <th>date_time_of_pickup</th>\n",
       "      <th>longitude_of_pickup</th>\n",
       "      <th>latitude_of_pickup</th>\n",
       "      <th>longitude_of_dropoff</th>\n",
       "      <th>latitude_of_dropoff</th>\n",
       "      <th>no_of_passenger</th>\n",
       "    </tr>\n",
       "  </thead>\n",
       "  <tbody>\n",
       "    <tr>\n",
       "      <th>12141</th>\n",
       "      <td>38:00.0</td>\n",
       "      <td>7.3</td>\n",
       "      <td>2012-06-02 16:38:00 UTC</td>\n",
       "      <td>-73.977605</td>\n",
       "      <td>40.753010</td>\n",
       "      <td>-73.988657</td>\n",
       "      <td>40.749547</td>\n",
       "      <td>1</td>\n",
       "    </tr>\n",
       "    <tr>\n",
       "      <th>44559</th>\n",
       "      <td>35:59.0</td>\n",
       "      <td>6.1</td>\n",
       "      <td>2009-08-17 08:35:59 UTC</td>\n",
       "      <td>-73.974138</td>\n",
       "      <td>40.778696</td>\n",
       "      <td>-73.953829</td>\n",
       "      <td>40.779481</td>\n",
       "      <td>1</td>\n",
       "    </tr>\n",
       "    <tr>\n",
       "      <th>39385</th>\n",
       "      <td>36:00.0</td>\n",
       "      <td>4.5</td>\n",
       "      <td>2010-07-14 23:36:00 UTC</td>\n",
       "      <td>-73.993875</td>\n",
       "      <td>40.756856</td>\n",
       "      <td>-73.995466</td>\n",
       "      <td>40.749394</td>\n",
       "      <td>3</td>\n",
       "    </tr>\n",
       "    <tr>\n",
       "      <th>23965</th>\n",
       "      <td>30:00.0</td>\n",
       "      <td>6.5</td>\n",
       "      <td>2010-04-08 00:30:00 UTC</td>\n",
       "      <td>-73.992935</td>\n",
       "      <td>40.724198</td>\n",
       "      <td>-74.003523</td>\n",
       "      <td>40.735962</td>\n",
       "      <td>6</td>\n",
       "    </tr>\n",
       "    <tr>\n",
       "      <th>14229</th>\n",
       "      <td>47:00.0</td>\n",
       "      <td>8.1</td>\n",
       "      <td>2012-06-13 11:47:00 UTC</td>\n",
       "      <td>0.000000</td>\n",
       "      <td>0.000000</td>\n",
       "      <td>0.000000</td>\n",
       "      <td>0.000000</td>\n",
       "      <td>1</td>\n",
       "    </tr>\n",
       "    <tr>\n",
       "      <th>11340</th>\n",
       "      <td>41:00.0</td>\n",
       "      <td>5.7</td>\n",
       "      <td>2009-01-30 19:41:00 UTC</td>\n",
       "      <td>-73.973715</td>\n",
       "      <td>40.764458</td>\n",
       "      <td>-73.985088</td>\n",
       "      <td>40.759090</td>\n",
       "      <td>1</td>\n",
       "    </tr>\n",
       "    <tr>\n",
       "      <th>6441</th>\n",
       "      <td>42:19.0</td>\n",
       "      <td>11.0</td>\n",
       "      <td>2013-01-23 16:42:19 UTC</td>\n",
       "      <td>-73.966588</td>\n",
       "      <td>40.804426</td>\n",
       "      <td>-73.939276</td>\n",
       "      <td>40.792645</td>\n",
       "      <td>1</td>\n",
       "    </tr>\n",
       "    <tr>\n",
       "      <th>34552</th>\n",
       "      <td>02:00.0</td>\n",
       "      <td>12.0</td>\n",
       "      <td>2014-03-27 21:02:00 UTC</td>\n",
       "      <td>-74.015247</td>\n",
       "      <td>40.710657</td>\n",
       "      <td>-73.993383</td>\n",
       "      <td>40.730962</td>\n",
       "      <td>1</td>\n",
       "    </tr>\n",
       "    <tr>\n",
       "      <th>4984</th>\n",
       "      <td>21:00.0</td>\n",
       "      <td>5.5</td>\n",
       "      <td>2014-07-23 19:21:00 UTC</td>\n",
       "      <td>-73.998167</td>\n",
       "      <td>40.750045</td>\n",
       "      <td>-73.989677</td>\n",
       "      <td>40.744912</td>\n",
       "      <td>2</td>\n",
       "    </tr>\n",
       "    <tr>\n",
       "      <th>43467</th>\n",
       "      <td>08:00.0</td>\n",
       "      <td>8.0</td>\n",
       "      <td>2012-10-19 18:08:00 UTC</td>\n",
       "      <td>-73.983612</td>\n",
       "      <td>40.721670</td>\n",
       "      <td>-73.983783</td>\n",
       "      <td>40.738067</td>\n",
       "      <td>1</td>\n",
       "    </tr>\n",
       "  </tbody>\n",
       "</table>\n",
       "</div>"
      ],
      "text/plain": [
       "      unique_id  amount      date_time_of_pickup  longitude_of_pickup  \\\n",
       "12141   38:00.0     7.3  2012-06-02 16:38:00 UTC           -73.977605   \n",
       "44559   35:59.0     6.1  2009-08-17 08:35:59 UTC           -73.974138   \n",
       "39385   36:00.0     4.5  2010-07-14 23:36:00 UTC           -73.993875   \n",
       "23965   30:00.0     6.5  2010-04-08 00:30:00 UTC           -73.992935   \n",
       "14229   47:00.0     8.1  2012-06-13 11:47:00 UTC             0.000000   \n",
       "11340   41:00.0     5.7  2009-01-30 19:41:00 UTC           -73.973715   \n",
       "6441    42:19.0    11.0  2013-01-23 16:42:19 UTC           -73.966588   \n",
       "34552   02:00.0    12.0  2014-03-27 21:02:00 UTC           -74.015247   \n",
       "4984    21:00.0     5.5  2014-07-23 19:21:00 UTC           -73.998167   \n",
       "43467   08:00.0     8.0  2012-10-19 18:08:00 UTC           -73.983612   \n",
       "\n",
       "       latitude_of_pickup  longitude_of_dropoff  latitude_of_dropoff  \\\n",
       "12141           40.753010            -73.988657            40.749547   \n",
       "44559           40.778696            -73.953829            40.779481   \n",
       "39385           40.756856            -73.995466            40.749394   \n",
       "23965           40.724198            -74.003523            40.735962   \n",
       "14229            0.000000              0.000000             0.000000   \n",
       "11340           40.764458            -73.985088            40.759090   \n",
       "6441            40.804426            -73.939276            40.792645   \n",
       "34552           40.710657            -73.993383            40.730962   \n",
       "4984            40.750045            -73.989677            40.744912   \n",
       "43467           40.721670            -73.983783            40.738067   \n",
       "\n",
       "       no_of_passenger  \n",
       "12141                1  \n",
       "44559                1  \n",
       "39385                3  \n",
       "23965                6  \n",
       "14229                1  \n",
       "11340                1  \n",
       "6441                 1  \n",
       "34552                1  \n",
       "4984                 2  \n",
       "43467                1  "
      ]
     },
     "execution_count": 37,
     "metadata": {},
     "output_type": "execute_result"
    }
   ],
   "source": [
    "df.sample(10)"
   ]
  },
  {
   "cell_type": "code",
   "execution_count": 39,
   "id": "f9aa642e",
   "metadata": {},
   "outputs": [],
   "source": [
    "df.drop(\"unique_id\",axis=1,inplace=True)"
   ]
  },
  {
   "cell_type": "code",
   "execution_count": 60,
   "id": "ff0cdc90",
   "metadata": {},
   "outputs": [
    {
     "data": {
      "text/html": [
       "<div>\n",
       "<style scoped>\n",
       "    .dataframe tbody tr th:only-of-type {\n",
       "        vertical-align: middle;\n",
       "    }\n",
       "\n",
       "    .dataframe tbody tr th {\n",
       "        vertical-align: top;\n",
       "    }\n",
       "\n",
       "    .dataframe thead th {\n",
       "        text-align: right;\n",
       "    }\n",
       "</style>\n",
       "<table border=\"1\" class=\"dataframe\">\n",
       "  <thead>\n",
       "    <tr style=\"text-align: right;\">\n",
       "      <th></th>\n",
       "      <th>amount</th>\n",
       "      <th>longitude_of_pickup</th>\n",
       "      <th>latitude_of_pickup</th>\n",
       "      <th>longitude_of_dropoff</th>\n",
       "      <th>latitude_of_dropoff</th>\n",
       "      <th>no_of_passenger_0</th>\n",
       "      <th>no_of_passenger_1</th>\n",
       "      <th>no_of_passenger_2</th>\n",
       "      <th>no_of_passenger_3</th>\n",
       "      <th>no_of_passenger_4</th>\n",
       "      <th>...</th>\n",
       "      <th>date_time_of_pickup_2015-06-30 06:45:23 UTC</th>\n",
       "      <th>date_time_of_pickup_2015-06-30 08:29:06 UTC</th>\n",
       "      <th>date_time_of_pickup_2015-06-30 10:58:55 UTC</th>\n",
       "      <th>date_time_of_pickup_2015-06-30 15:45:14 UTC</th>\n",
       "      <th>date_time_of_pickup_2015-06-30 16:05:50 UTC</th>\n",
       "      <th>date_time_of_pickup_2015-06-30 17:59:31 UTC</th>\n",
       "      <th>date_time_of_pickup_2015-06-30 19:14:39 UTC</th>\n",
       "      <th>date_time_of_pickup_2015-06-30 19:42:23 UTC</th>\n",
       "      <th>date_time_of_pickup_2015-06-30 20:50:04 UTC</th>\n",
       "      <th>date_time_of_pickup_2015-06-30 22:42:39 UTC</th>\n",
       "    </tr>\n",
       "  </thead>\n",
       "  <tbody>\n",
       "    <tr>\n",
       "      <th>41413</th>\n",
       "      <td>10.90</td>\n",
       "      <td>-73.974148</td>\n",
       "      <td>40.748295</td>\n",
       "      <td>-73.978442</td>\n",
       "      <td>40.778230</td>\n",
       "      <td>0</td>\n",
       "      <td>1</td>\n",
       "      <td>0</td>\n",
       "      <td>0</td>\n",
       "      <td>0</td>\n",
       "      <td>...</td>\n",
       "      <td>0</td>\n",
       "      <td>0</td>\n",
       "      <td>0</td>\n",
       "      <td>0</td>\n",
       "      <td>0</td>\n",
       "      <td>0</td>\n",
       "      <td>0</td>\n",
       "      <td>0</td>\n",
       "      <td>0</td>\n",
       "      <td>0</td>\n",
       "    </tr>\n",
       "    <tr>\n",
       "      <th>34975</th>\n",
       "      <td>12.10</td>\n",
       "      <td>-73.987604</td>\n",
       "      <td>40.719694</td>\n",
       "      <td>-73.956911</td>\n",
       "      <td>40.774848</td>\n",
       "      <td>0</td>\n",
       "      <td>0</td>\n",
       "      <td>0</td>\n",
       "      <td>0</td>\n",
       "      <td>1</td>\n",
       "      <td>...</td>\n",
       "      <td>0</td>\n",
       "      <td>0</td>\n",
       "      <td>0</td>\n",
       "      <td>0</td>\n",
       "      <td>0</td>\n",
       "      <td>0</td>\n",
       "      <td>0</td>\n",
       "      <td>0</td>\n",
       "      <td>0</td>\n",
       "      <td>0</td>\n",
       "    </tr>\n",
       "    <tr>\n",
       "      <th>40865</th>\n",
       "      <td>10.50</td>\n",
       "      <td>-73.964485</td>\n",
       "      <td>40.807472</td>\n",
       "      <td>-73.956080</td>\n",
       "      <td>40.781360</td>\n",
       "      <td>0</td>\n",
       "      <td>1</td>\n",
       "      <td>0</td>\n",
       "      <td>0</td>\n",
       "      <td>0</td>\n",
       "      <td>...</td>\n",
       "      <td>0</td>\n",
       "      <td>0</td>\n",
       "      <td>0</td>\n",
       "      <td>0</td>\n",
       "      <td>0</td>\n",
       "      <td>0</td>\n",
       "      <td>0</td>\n",
       "      <td>0</td>\n",
       "      <td>0</td>\n",
       "      <td>0</td>\n",
       "    </tr>\n",
       "    <tr>\n",
       "      <th>4832</th>\n",
       "      <td>6.50</td>\n",
       "      <td>-74.003652</td>\n",
       "      <td>40.749087</td>\n",
       "      <td>-73.986603</td>\n",
       "      <td>40.769190</td>\n",
       "      <td>0</td>\n",
       "      <td>1</td>\n",
       "      <td>0</td>\n",
       "      <td>0</td>\n",
       "      <td>0</td>\n",
       "      <td>...</td>\n",
       "      <td>0</td>\n",
       "      <td>0</td>\n",
       "      <td>0</td>\n",
       "      <td>0</td>\n",
       "      <td>0</td>\n",
       "      <td>0</td>\n",
       "      <td>0</td>\n",
       "      <td>0</td>\n",
       "      <td>0</td>\n",
       "      <td>0</td>\n",
       "    </tr>\n",
       "    <tr>\n",
       "      <th>6939</th>\n",
       "      <td>7.70</td>\n",
       "      <td>-73.972367</td>\n",
       "      <td>40.787877</td>\n",
       "      <td>-73.954915</td>\n",
       "      <td>40.803423</td>\n",
       "      <td>0</td>\n",
       "      <td>1</td>\n",
       "      <td>0</td>\n",
       "      <td>0</td>\n",
       "      <td>0</td>\n",
       "      <td>...</td>\n",
       "      <td>0</td>\n",
       "      <td>0</td>\n",
       "      <td>0</td>\n",
       "      <td>0</td>\n",
       "      <td>0</td>\n",
       "      <td>0</td>\n",
       "      <td>0</td>\n",
       "      <td>0</td>\n",
       "      <td>0</td>\n",
       "      <td>0</td>\n",
       "    </tr>\n",
       "    <tr>\n",
       "      <th>33124</th>\n",
       "      <td>16.50</td>\n",
       "      <td>-73.994272</td>\n",
       "      <td>40.747755</td>\n",
       "      <td>-73.930370</td>\n",
       "      <td>40.756892</td>\n",
       "      <td>0</td>\n",
       "      <td>0</td>\n",
       "      <td>1</td>\n",
       "      <td>0</td>\n",
       "      <td>0</td>\n",
       "      <td>...</td>\n",
       "      <td>0</td>\n",
       "      <td>0</td>\n",
       "      <td>0</td>\n",
       "      <td>0</td>\n",
       "      <td>0</td>\n",
       "      <td>0</td>\n",
       "      <td>0</td>\n",
       "      <td>0</td>\n",
       "      <td>0</td>\n",
       "      <td>0</td>\n",
       "    </tr>\n",
       "    <tr>\n",
       "      <th>22783</th>\n",
       "      <td>6.50</td>\n",
       "      <td>-73.982373</td>\n",
       "      <td>40.762492</td>\n",
       "      <td>-73.991925</td>\n",
       "      <td>40.749168</td>\n",
       "      <td>0</td>\n",
       "      <td>1</td>\n",
       "      <td>0</td>\n",
       "      <td>0</td>\n",
       "      <td>0</td>\n",
       "      <td>...</td>\n",
       "      <td>0</td>\n",
       "      <td>0</td>\n",
       "      <td>0</td>\n",
       "      <td>0</td>\n",
       "      <td>0</td>\n",
       "      <td>0</td>\n",
       "      <td>0</td>\n",
       "      <td>0</td>\n",
       "      <td>0</td>\n",
       "      <td>0</td>\n",
       "    </tr>\n",
       "    <tr>\n",
       "      <th>22350</th>\n",
       "      <td>14.50</td>\n",
       "      <td>-74.003080</td>\n",
       "      <td>40.727492</td>\n",
       "      <td>-73.959183</td>\n",
       "      <td>40.788717</td>\n",
       "      <td>0</td>\n",
       "      <td>0</td>\n",
       "      <td>0</td>\n",
       "      <td>0</td>\n",
       "      <td>0</td>\n",
       "      <td>...</td>\n",
       "      <td>0</td>\n",
       "      <td>0</td>\n",
       "      <td>0</td>\n",
       "      <td>0</td>\n",
       "      <td>0</td>\n",
       "      <td>0</td>\n",
       "      <td>0</td>\n",
       "      <td>0</td>\n",
       "      <td>0</td>\n",
       "      <td>0</td>\n",
       "    </tr>\n",
       "    <tr>\n",
       "      <th>6448</th>\n",
       "      <td>4.50</td>\n",
       "      <td>-73.976896</td>\n",
       "      <td>40.754414</td>\n",
       "      <td>-73.972563</td>\n",
       "      <td>40.759256</td>\n",
       "      <td>0</td>\n",
       "      <td>1</td>\n",
       "      <td>0</td>\n",
       "      <td>0</td>\n",
       "      <td>0</td>\n",
       "      <td>...</td>\n",
       "      <td>0</td>\n",
       "      <td>0</td>\n",
       "      <td>0</td>\n",
       "      <td>0</td>\n",
       "      <td>0</td>\n",
       "      <td>0</td>\n",
       "      <td>0</td>\n",
       "      <td>0</td>\n",
       "      <td>0</td>\n",
       "      <td>0</td>\n",
       "    </tr>\n",
       "    <tr>\n",
       "      <th>30127</th>\n",
       "      <td>57.33</td>\n",
       "      <td>-73.790171</td>\n",
       "      <td>40.646805</td>\n",
       "      <td>-73.988235</td>\n",
       "      <td>40.757530</td>\n",
       "      <td>0</td>\n",
       "      <td>0</td>\n",
       "      <td>1</td>\n",
       "      <td>0</td>\n",
       "      <td>0</td>\n",
       "      <td>...</td>\n",
       "      <td>0</td>\n",
       "      <td>0</td>\n",
       "      <td>0</td>\n",
       "      <td>0</td>\n",
       "      <td>0</td>\n",
       "      <td>0</td>\n",
       "      <td>0</td>\n",
       "      <td>0</td>\n",
       "      <td>0</td>\n",
       "      <td>0</td>\n",
       "    </tr>\n",
       "  </tbody>\n",
       "</table>\n",
       "<p>10 rows × 49567 columns</p>\n",
       "</div>"
      ],
      "text/plain": [
       "       amount  longitude_of_pickup  latitude_of_pickup  longitude_of_dropoff  \\\n",
       "41413   10.90           -73.974148           40.748295            -73.978442   \n",
       "34975   12.10           -73.987604           40.719694            -73.956911   \n",
       "40865   10.50           -73.964485           40.807472            -73.956080   \n",
       "4832     6.50           -74.003652           40.749087            -73.986603   \n",
       "6939     7.70           -73.972367           40.787877            -73.954915   \n",
       "33124   16.50           -73.994272           40.747755            -73.930370   \n",
       "22783    6.50           -73.982373           40.762492            -73.991925   \n",
       "22350   14.50           -74.003080           40.727492            -73.959183   \n",
       "6448     4.50           -73.976896           40.754414            -73.972563   \n",
       "30127   57.33           -73.790171           40.646805            -73.988235   \n",
       "\n",
       "       latitude_of_dropoff  no_of_passenger_0  no_of_passenger_1  \\\n",
       "41413            40.778230                  0                  1   \n",
       "34975            40.774848                  0                  0   \n",
       "40865            40.781360                  0                  1   \n",
       "4832             40.769190                  0                  1   \n",
       "6939             40.803423                  0                  1   \n",
       "33124            40.756892                  0                  0   \n",
       "22783            40.749168                  0                  1   \n",
       "22350            40.788717                  0                  0   \n",
       "6448             40.759256                  0                  1   \n",
       "30127            40.757530                  0                  0   \n",
       "\n",
       "       no_of_passenger_2  no_of_passenger_3  no_of_passenger_4  ...  \\\n",
       "41413                  0                  0                  0  ...   \n",
       "34975                  0                  0                  1  ...   \n",
       "40865                  0                  0                  0  ...   \n",
       "4832                   0                  0                  0  ...   \n",
       "6939                   0                  0                  0  ...   \n",
       "33124                  1                  0                  0  ...   \n",
       "22783                  0                  0                  0  ...   \n",
       "22350                  0                  0                  0  ...   \n",
       "6448                   0                  0                  0  ...   \n",
       "30127                  1                  0                  0  ...   \n",
       "\n",
       "       date_time_of_pickup_2015-06-30 06:45:23 UTC  \\\n",
       "41413                                            0   \n",
       "34975                                            0   \n",
       "40865                                            0   \n",
       "4832                                             0   \n",
       "6939                                             0   \n",
       "33124                                            0   \n",
       "22783                                            0   \n",
       "22350                                            0   \n",
       "6448                                             0   \n",
       "30127                                            0   \n",
       "\n",
       "       date_time_of_pickup_2015-06-30 08:29:06 UTC  \\\n",
       "41413                                            0   \n",
       "34975                                            0   \n",
       "40865                                            0   \n",
       "4832                                             0   \n",
       "6939                                             0   \n",
       "33124                                            0   \n",
       "22783                                            0   \n",
       "22350                                            0   \n",
       "6448                                             0   \n",
       "30127                                            0   \n",
       "\n",
       "       date_time_of_pickup_2015-06-30 10:58:55 UTC  \\\n",
       "41413                                            0   \n",
       "34975                                            0   \n",
       "40865                                            0   \n",
       "4832                                             0   \n",
       "6939                                             0   \n",
       "33124                                            0   \n",
       "22783                                            0   \n",
       "22350                                            0   \n",
       "6448                                             0   \n",
       "30127                                            0   \n",
       "\n",
       "       date_time_of_pickup_2015-06-30 15:45:14 UTC  \\\n",
       "41413                                            0   \n",
       "34975                                            0   \n",
       "40865                                            0   \n",
       "4832                                             0   \n",
       "6939                                             0   \n",
       "33124                                            0   \n",
       "22783                                            0   \n",
       "22350                                            0   \n",
       "6448                                             0   \n",
       "30127                                            0   \n",
       "\n",
       "       date_time_of_pickup_2015-06-30 16:05:50 UTC  \\\n",
       "41413                                            0   \n",
       "34975                                            0   \n",
       "40865                                            0   \n",
       "4832                                             0   \n",
       "6939                                             0   \n",
       "33124                                            0   \n",
       "22783                                            0   \n",
       "22350                                            0   \n",
       "6448                                             0   \n",
       "30127                                            0   \n",
       "\n",
       "       date_time_of_pickup_2015-06-30 17:59:31 UTC  \\\n",
       "41413                                            0   \n",
       "34975                                            0   \n",
       "40865                                            0   \n",
       "4832                                             0   \n",
       "6939                                             0   \n",
       "33124                                            0   \n",
       "22783                                            0   \n",
       "22350                                            0   \n",
       "6448                                             0   \n",
       "30127                                            0   \n",
       "\n",
       "       date_time_of_pickup_2015-06-30 19:14:39 UTC  \\\n",
       "41413                                            0   \n",
       "34975                                            0   \n",
       "40865                                            0   \n",
       "4832                                             0   \n",
       "6939                                             0   \n",
       "33124                                            0   \n",
       "22783                                            0   \n",
       "22350                                            0   \n",
       "6448                                             0   \n",
       "30127                                            0   \n",
       "\n",
       "       date_time_of_pickup_2015-06-30 19:42:23 UTC  \\\n",
       "41413                                            0   \n",
       "34975                                            0   \n",
       "40865                                            0   \n",
       "4832                                             0   \n",
       "6939                                             0   \n",
       "33124                                            0   \n",
       "22783                                            0   \n",
       "22350                                            0   \n",
       "6448                                             0   \n",
       "30127                                            0   \n",
       "\n",
       "       date_time_of_pickup_2015-06-30 20:50:04 UTC  \\\n",
       "41413                                            0   \n",
       "34975                                            0   \n",
       "40865                                            0   \n",
       "4832                                             0   \n",
       "6939                                             0   \n",
       "33124                                            0   \n",
       "22783                                            0   \n",
       "22350                                            0   \n",
       "6448                                             0   \n",
       "30127                                            0   \n",
       "\n",
       "       date_time_of_pickup_2015-06-30 22:42:39 UTC  \n",
       "41413                                            0  \n",
       "34975                                            0  \n",
       "40865                                            0  \n",
       "4832                                             0  \n",
       "6939                                             0  \n",
       "33124                                            0  \n",
       "22783                                            0  \n",
       "22350                                            0  \n",
       "6448                                             0  \n",
       "30127                                            0  \n",
       "\n",
       "[10 rows x 49567 columns]"
      ]
     },
     "execution_count": 60,
     "metadata": {},
     "output_type": "execute_result"
    }
   ],
   "source": [
    "df=pd.get_dummies(df,columns=['date_time_of_pickup'])\n",
    "df.sample(10)"
   ]
  },
  {
   "cell_type": "code",
   "execution_count": 41,
   "id": "cbccd7d6",
   "metadata": {},
   "outputs": [
    {
     "data": {
      "text/plain": [
       "amount                  0\n",
       "date_time_of_pickup     0\n",
       "longitude_of_pickup     0\n",
       "latitude_of_pickup      0\n",
       "longitude_of_dropoff    0\n",
       "latitude_of_dropoff     0\n",
       "no_of_passenger         0\n",
       "dtype: int64"
      ]
     },
     "execution_count": 41,
     "metadata": {},
     "output_type": "execute_result"
    }
   ],
   "source": [
    "df.isnull().sum()"
   ]
  },
  {
   "cell_type": "code",
   "execution_count": 42,
   "id": "eafe17ff",
   "metadata": {},
   "outputs": [
    {
     "data": {
      "text/html": [
       "<div>\n",
       "<style scoped>\n",
       "    .dataframe tbody tr th:only-of-type {\n",
       "        vertical-align: middle;\n",
       "    }\n",
       "\n",
       "    .dataframe tbody tr th {\n",
       "        vertical-align: top;\n",
       "    }\n",
       "\n",
       "    .dataframe thead th {\n",
       "        text-align: right;\n",
       "    }\n",
       "</style>\n",
       "<table border=\"1\" class=\"dataframe\">\n",
       "  <thead>\n",
       "    <tr style=\"text-align: right;\">\n",
       "      <th></th>\n",
       "      <th>amount</th>\n",
       "      <th>longitude_of_pickup</th>\n",
       "      <th>latitude_of_pickup</th>\n",
       "      <th>longitude_of_dropoff</th>\n",
       "      <th>latitude_of_dropoff</th>\n",
       "      <th>no_of_passenger</th>\n",
       "    </tr>\n",
       "  </thead>\n",
       "  <tbody>\n",
       "    <tr>\n",
       "      <th>count</th>\n",
       "      <td>50000.000000</td>\n",
       "      <td>50000.000000</td>\n",
       "      <td>50000.000000</td>\n",
       "      <td>50000.000000</td>\n",
       "      <td>50000.000000</td>\n",
       "      <td>50000.000000</td>\n",
       "    </tr>\n",
       "    <tr>\n",
       "      <th>mean</th>\n",
       "      <td>11.364171</td>\n",
       "      <td>-72.509756</td>\n",
       "      <td>39.933759</td>\n",
       "      <td>-72.504616</td>\n",
       "      <td>39.926251</td>\n",
       "      <td>1.667840</td>\n",
       "    </tr>\n",
       "    <tr>\n",
       "      <th>std</th>\n",
       "      <td>9.685557</td>\n",
       "      <td>10.393860</td>\n",
       "      <td>6.224857</td>\n",
       "      <td>10.407570</td>\n",
       "      <td>6.014737</td>\n",
       "      <td>1.289195</td>\n",
       "    </tr>\n",
       "    <tr>\n",
       "      <th>min</th>\n",
       "      <td>-5.000000</td>\n",
       "      <td>-75.423848</td>\n",
       "      <td>-74.006893</td>\n",
       "      <td>-84.654241</td>\n",
       "      <td>-74.006377</td>\n",
       "      <td>0.000000</td>\n",
       "    </tr>\n",
       "    <tr>\n",
       "      <th>25%</th>\n",
       "      <td>6.000000</td>\n",
       "      <td>-73.992062</td>\n",
       "      <td>40.734880</td>\n",
       "      <td>-73.991152</td>\n",
       "      <td>40.734372</td>\n",
       "      <td>1.000000</td>\n",
       "    </tr>\n",
       "    <tr>\n",
       "      <th>50%</th>\n",
       "      <td>8.500000</td>\n",
       "      <td>-73.981840</td>\n",
       "      <td>40.752678</td>\n",
       "      <td>-73.980082</td>\n",
       "      <td>40.753372</td>\n",
       "      <td>1.000000</td>\n",
       "    </tr>\n",
       "    <tr>\n",
       "      <th>75%</th>\n",
       "      <td>12.500000</td>\n",
       "      <td>-73.967148</td>\n",
       "      <td>40.767360</td>\n",
       "      <td>-73.963584</td>\n",
       "      <td>40.768167</td>\n",
       "      <td>2.000000</td>\n",
       "    </tr>\n",
       "    <tr>\n",
       "      <th>max</th>\n",
       "      <td>200.000000</td>\n",
       "      <td>40.783472</td>\n",
       "      <td>401.083332</td>\n",
       "      <td>40.851027</td>\n",
       "      <td>43.415190</td>\n",
       "      <td>6.000000</td>\n",
       "    </tr>\n",
       "  </tbody>\n",
       "</table>\n",
       "</div>"
      ],
      "text/plain": [
       "             amount  longitude_of_pickup  latitude_of_pickup  \\\n",
       "count  50000.000000         50000.000000        50000.000000   \n",
       "mean      11.364171           -72.509756           39.933759   \n",
       "std        9.685557            10.393860            6.224857   \n",
       "min       -5.000000           -75.423848          -74.006893   \n",
       "25%        6.000000           -73.992062           40.734880   \n",
       "50%        8.500000           -73.981840           40.752678   \n",
       "75%       12.500000           -73.967148           40.767360   \n",
       "max      200.000000            40.783472          401.083332   \n",
       "\n",
       "       longitude_of_dropoff  latitude_of_dropoff  no_of_passenger  \n",
       "count          50000.000000         50000.000000     50000.000000  \n",
       "mean             -72.504616            39.926251         1.667840  \n",
       "std               10.407570             6.014737         1.289195  \n",
       "min              -84.654241           -74.006377         0.000000  \n",
       "25%              -73.991152            40.734372         1.000000  \n",
       "50%              -73.980082            40.753372         1.000000  \n",
       "75%              -73.963584            40.768167         2.000000  \n",
       "max               40.851027            43.415190         6.000000  "
      ]
     },
     "execution_count": 42,
     "metadata": {},
     "output_type": "execute_result"
    }
   ],
   "source": [
    "df.describe()"
   ]
  },
  {
   "cell_type": "code",
   "execution_count": 43,
   "id": "7f761a4c",
   "metadata": {},
   "outputs": [
    {
     "data": {
      "text/html": [
       "<div>\n",
       "<style scoped>\n",
       "    .dataframe tbody tr th:only-of-type {\n",
       "        vertical-align: middle;\n",
       "    }\n",
       "\n",
       "    .dataframe tbody tr th {\n",
       "        vertical-align: top;\n",
       "    }\n",
       "\n",
       "    .dataframe thead th {\n",
       "        text-align: right;\n",
       "    }\n",
       "</style>\n",
       "<table border=\"1\" class=\"dataframe\">\n",
       "  <thead>\n",
       "    <tr style=\"text-align: right;\">\n",
       "      <th></th>\n",
       "      <th>amount</th>\n",
       "      <th>date_time_of_pickup</th>\n",
       "      <th>longitude_of_pickup</th>\n",
       "      <th>latitude_of_pickup</th>\n",
       "      <th>longitude_of_dropoff</th>\n",
       "      <th>latitude_of_dropoff</th>\n",
       "      <th>no_of_passenger</th>\n",
       "    </tr>\n",
       "  </thead>\n",
       "  <tbody>\n",
       "    <tr>\n",
       "      <th>count</th>\n",
       "      <td>50000.000000</td>\n",
       "      <td>50000</td>\n",
       "      <td>50000.000000</td>\n",
       "      <td>50000.000000</td>\n",
       "      <td>50000.000000</td>\n",
       "      <td>50000.000000</td>\n",
       "      <td>50000.000000</td>\n",
       "    </tr>\n",
       "    <tr>\n",
       "      <th>unique</th>\n",
       "      <td>NaN</td>\n",
       "      <td>49555</td>\n",
       "      <td>NaN</td>\n",
       "      <td>NaN</td>\n",
       "      <td>NaN</td>\n",
       "      <td>NaN</td>\n",
       "      <td>NaN</td>\n",
       "    </tr>\n",
       "    <tr>\n",
       "      <th>top</th>\n",
       "      <td>NaN</td>\n",
       "      <td>2011-09-03 01:30:00 UTC</td>\n",
       "      <td>NaN</td>\n",
       "      <td>NaN</td>\n",
       "      <td>NaN</td>\n",
       "      <td>NaN</td>\n",
       "      <td>NaN</td>\n",
       "    </tr>\n",
       "    <tr>\n",
       "      <th>freq</th>\n",
       "      <td>NaN</td>\n",
       "      <td>3</td>\n",
       "      <td>NaN</td>\n",
       "      <td>NaN</td>\n",
       "      <td>NaN</td>\n",
       "      <td>NaN</td>\n",
       "      <td>NaN</td>\n",
       "    </tr>\n",
       "    <tr>\n",
       "      <th>mean</th>\n",
       "      <td>11.364171</td>\n",
       "      <td>NaN</td>\n",
       "      <td>-72.509756</td>\n",
       "      <td>39.933759</td>\n",
       "      <td>-72.504616</td>\n",
       "      <td>39.926251</td>\n",
       "      <td>1.667840</td>\n",
       "    </tr>\n",
       "    <tr>\n",
       "      <th>std</th>\n",
       "      <td>9.685557</td>\n",
       "      <td>NaN</td>\n",
       "      <td>10.393860</td>\n",
       "      <td>6.224857</td>\n",
       "      <td>10.407570</td>\n",
       "      <td>6.014737</td>\n",
       "      <td>1.289195</td>\n",
       "    </tr>\n",
       "    <tr>\n",
       "      <th>min</th>\n",
       "      <td>-5.000000</td>\n",
       "      <td>NaN</td>\n",
       "      <td>-75.423848</td>\n",
       "      <td>-74.006893</td>\n",
       "      <td>-84.654241</td>\n",
       "      <td>-74.006377</td>\n",
       "      <td>0.000000</td>\n",
       "    </tr>\n",
       "    <tr>\n",
       "      <th>25%</th>\n",
       "      <td>6.000000</td>\n",
       "      <td>NaN</td>\n",
       "      <td>-73.992062</td>\n",
       "      <td>40.734880</td>\n",
       "      <td>-73.991152</td>\n",
       "      <td>40.734372</td>\n",
       "      <td>1.000000</td>\n",
       "    </tr>\n",
       "    <tr>\n",
       "      <th>50%</th>\n",
       "      <td>8.500000</td>\n",
       "      <td>NaN</td>\n",
       "      <td>-73.981840</td>\n",
       "      <td>40.752678</td>\n",
       "      <td>-73.980082</td>\n",
       "      <td>40.753372</td>\n",
       "      <td>1.000000</td>\n",
       "    </tr>\n",
       "    <tr>\n",
       "      <th>75%</th>\n",
       "      <td>12.500000</td>\n",
       "      <td>NaN</td>\n",
       "      <td>-73.967148</td>\n",
       "      <td>40.767360</td>\n",
       "      <td>-73.963584</td>\n",
       "      <td>40.768167</td>\n",
       "      <td>2.000000</td>\n",
       "    </tr>\n",
       "    <tr>\n",
       "      <th>max</th>\n",
       "      <td>200.000000</td>\n",
       "      <td>NaN</td>\n",
       "      <td>40.783472</td>\n",
       "      <td>401.083332</td>\n",
       "      <td>40.851027</td>\n",
       "      <td>43.415190</td>\n",
       "      <td>6.000000</td>\n",
       "    </tr>\n",
       "  </tbody>\n",
       "</table>\n",
       "</div>"
      ],
      "text/plain": [
       "              amount      date_time_of_pickup  longitude_of_pickup  \\\n",
       "count   50000.000000                    50000         50000.000000   \n",
       "unique           NaN                    49555                  NaN   \n",
       "top              NaN  2011-09-03 01:30:00 UTC                  NaN   \n",
       "freq             NaN                        3                  NaN   \n",
       "mean       11.364171                      NaN           -72.509756   \n",
       "std         9.685557                      NaN            10.393860   \n",
       "min        -5.000000                      NaN           -75.423848   \n",
       "25%         6.000000                      NaN           -73.992062   \n",
       "50%         8.500000                      NaN           -73.981840   \n",
       "75%        12.500000                      NaN           -73.967148   \n",
       "max       200.000000                      NaN            40.783472   \n",
       "\n",
       "        latitude_of_pickup  longitude_of_dropoff  latitude_of_dropoff  \\\n",
       "count         50000.000000          50000.000000         50000.000000   \n",
       "unique                 NaN                   NaN                  NaN   \n",
       "top                    NaN                   NaN                  NaN   \n",
       "freq                   NaN                   NaN                  NaN   \n",
       "mean             39.933759            -72.504616            39.926251   \n",
       "std               6.224857             10.407570             6.014737   \n",
       "min             -74.006893            -84.654241           -74.006377   \n",
       "25%              40.734880            -73.991152            40.734372   \n",
       "50%              40.752678            -73.980082            40.753372   \n",
       "75%              40.767360            -73.963584            40.768167   \n",
       "max             401.083332             40.851027            43.415190   \n",
       "\n",
       "        no_of_passenger  \n",
       "count      50000.000000  \n",
       "unique              NaN  \n",
       "top                 NaN  \n",
       "freq                NaN  \n",
       "mean           1.667840  \n",
       "std            1.289195  \n",
       "min            0.000000  \n",
       "25%            1.000000  \n",
       "50%            1.000000  \n",
       "75%            2.000000  \n",
       "max            6.000000  "
      ]
     },
     "execution_count": 43,
     "metadata": {},
     "output_type": "execute_result"
    }
   ],
   "source": [
    "df.describe(include=\"all\")"
   ]
  },
  {
   "cell_type": "code",
   "execution_count": 44,
   "id": "4bd24bd1",
   "metadata": {},
   "outputs": [
    {
     "name": "stdout",
     "output_type": "stream",
     "text": [
      "<class 'pandas.core.frame.DataFrame'>\n",
      "RangeIndex: 50000 entries, 0 to 49999\n",
      "Data columns (total 7 columns):\n",
      " #   Column                Non-Null Count  Dtype  \n",
      "---  ------                --------------  -----  \n",
      " 0   amount                50000 non-null  float64\n",
      " 1   date_time_of_pickup   50000 non-null  object \n",
      " 2   longitude_of_pickup   50000 non-null  float64\n",
      " 3   latitude_of_pickup    50000 non-null  float64\n",
      " 4   longitude_of_dropoff  50000 non-null  float64\n",
      " 5   latitude_of_dropoff   50000 non-null  float64\n",
      " 6   no_of_passenger       50000 non-null  int64  \n",
      "dtypes: float64(5), int64(1), object(1)\n",
      "memory usage: 2.7+ MB\n"
     ]
    }
   ],
   "source": [
    "df.info()"
   ]
  },
  {
   "cell_type": "code",
   "execution_count": 45,
   "id": "4fd946da",
   "metadata": {},
   "outputs": [
    {
     "data": {
      "text/plain": [
       "amount                  float64\n",
       "date_time_of_pickup      object\n",
       "longitude_of_pickup     float64\n",
       "latitude_of_pickup      float64\n",
       "longitude_of_dropoff    float64\n",
       "latitude_of_dropoff     float64\n",
       "no_of_passenger           int64\n",
       "dtype: object"
      ]
     },
     "execution_count": 45,
     "metadata": {},
     "output_type": "execute_result"
    }
   ],
   "source": [
    "df.dtypes"
   ]
  },
  {
   "cell_type": "code",
   "execution_count": 21,
   "id": "e2b67e8f",
   "metadata": {},
   "outputs": [
    {
     "data": {
      "text/plain": [
       "<seaborn.axisgrid.PairGrid at 0x224947e84c0>"
      ]
     },
     "execution_count": 21,
     "metadata": {},
     "output_type": "execute_result"
    },
    {
     "data": {
      "image/png": "[encoded data removed]",
      "text/plain": [
       "<Figure size 1080x1080 with 42 Axes>"
      ]
     },
     "metadata": {
      "needs_background": "light"
     },
     "output_type": "display_data"
    }
   ],
   "source": [
    "sns.pairplot(df,diag_kind=\"kde\")"
   ]
  },
  {
   "cell_type": "code",
   "execution_count": 20,
   "id": "125cd205",
   "metadata": {},
   "outputs": [
    {
     "name": "stderr",
     "output_type": "stream",
     "text": [
      "C:\\ProgramData\\Anaconda3\\lib\\site-packages\\seaborn\\distributions.py:2619: FutureWarning: `distplot` is a deprecated function and will be removed in a future version. Please adapt your code to use either `displot` (a figure-level function with similar flexibility) or `histplot` (an axes-level function for histograms).\n",
      "  warnings.warn(msg, FutureWarning)\n"
     ]
    },
    {
     "data": {
      "image/png": "[encoded data removed]",
      "text/plain": [
       "<Figure size 432x288 with 1 Axes>"
      ]
     },
     "metadata": {
      "needs_background": "light"
     },
     "output_type": "display_data"
    }
   ],
   "source": [
    "sns.distplot(df[df[\"amount\"]<100][\"amount\"],kde=False);"
   ]
  },
  {
   "cell_type": "code",
   "execution_count": 23,
   "id": "e3b81a48",
   "metadata": {},
   "outputs": [
    {
     "name": "stderr",
     "output_type": "stream",
     "text": [
      "C:\\ProgramData\\Anaconda3\\lib\\site-packages\\seaborn\\distributions.py:2619: FutureWarning: `distplot` is a deprecated function and will be removed in a future version. Please adapt your code to use either `displot` (a figure-level function with similar flexibility) or `histplot` (an axes-level function for histograms).\n",
      "  warnings.warn(msg, FutureWarning)\n"
     ]
    },
    {
     "data": {
      "image/png": "[encoded data removed]",
      "text/plain": [
       "<Figure size 432x288 with 1 Axes>"
      ]
     },
     "metadata": {
      "needs_background": "light"
     },
     "output_type": "display_data"
    }
   ],
   "source": [
    "sns.distplot(df[\"amount\"],kde=False);"
   ]
  },
  {
   "cell_type": "code",
   "execution_count": null,
   "id": "62a9bd89",
   "metadata": {},
   "outputs": [],
   "source": [
    "df=df[df[\"amount\"]>=0]"
   ]
  },
  {
   "cell_type": "code",
   "execution_count": 22,
   "id": "6904ca57",
   "metadata": {},
   "outputs": [
    {
     "data": {
      "text/plain": [
       "50000"
      ]
     },
     "execution_count": 22,
     "metadata": {},
     "output_type": "execute_result"
    }
   ],
   "source": [
    "len(df)"
   ]
  },
  {
   "cell_type": "code",
   "execution_count": 14,
   "id": "9b60a2c4",
   "metadata": {},
   "outputs": [
    {
     "name": "stdout",
     "output_type": "stream",
     "text": [
      "-84.654241\n"
     ]
    }
   ],
   "source": [
    "print(min(df[\"longitude_of_pickup\"].min(), df[\"longitude_of_dropoff\"].min()))"
   ]
  },
  {
   "cell_type": "code",
   "execution_count": 15,
   "id": "3575f628",
   "metadata": {},
   "outputs": [
    {
     "name": "stdout",
     "output_type": "stream",
     "text": [
      "40.783472\n"
     ]
    }
   ],
   "source": [
    "print(min(df[\"longitude_of_pickup\"].max(), df[\"longitude_of_dropoff\"].max()))"
   ]
  },
  {
   "cell_type": "code",
   "execution_count": 16,
   "id": "fe67ce83",
   "metadata": {},
   "outputs": [
    {
     "name": "stdout",
     "output_type": "stream",
     "text": [
      "-74.006893\n"
     ]
    }
   ],
   "source": [
    "print(min(df[\"latitude_of_pickup\"].min(), df[\"latitude_of_dropoff\"].min()))"
   ]
  },
  {
   "cell_type": "code",
   "execution_count": 19,
   "id": "0ebacfc2",
   "metadata": {},
   "outputs": [
    {
     "name": "stdout",
     "output_type": "stream",
     "text": [
      "43.41519\n"
     ]
    }
   ],
   "source": [
    "print(min(df[\"latitude_of_pickup\"].max(), df[\"latitude_of_dropoff\"].max()))"
   ]
  },
  {
   "cell_type": "code",
   "execution_count": null,
   "id": "8e7ee965",
   "metadata": {},
   "outputs": [],
   "source": [
    "def select_within_boundingbox(df, BB):\n",
    "    return ((df[\"longitude_of_pickup\"] >= BB[0]) & (df[\"longitude_of_pickup\"] <= BB[1]) & \n",
    "            (df[\"latitude_of_pickup\"] >= BB[2]) & (df[\"latitude_of_pickup\"] <= BB[3]) &\n",
    "            (df[\"longitude_of_dropoff\"] >= BB[0]) & (df[\"longitude_of_dropoff\"] <= BB[1]) &\n",
    "            (df[\"latitude_of_dropoff\"] >= BB[2]) & (df[\"latitude_of_dropoff\"] <= BB[3]))"
   ]
  },
  {
   "cell_type": "code",
   "execution_count": 18,
   "id": "9b213573",
   "metadata": {},
   "outputs": [],
   "source": [
    "BB = (-74.3, -73.0, 40.6, 41.7)"
   ]
  },
  {
   "cell_type": "code",
   "execution_count": 17,
   "id": "6a2ea6e8",
   "metadata": {},
   "outputs": [
    {
     "name": "stdout",
     "output_type": "stream",
     "text": [
      "New size 50000\n"
     ]
    }
   ],
   "source": [
    "print(\"New size {}\".format(len(df)))"
   ]
  },
  {
   "cell_type": "code",
   "execution_count": null,
   "id": "55e3b51c",
   "metadata": {},
   "outputs": [],
   "source": []
  },
  {
   "cell_type": "code",
   "execution_count": 9,
   "id": "e41f82ae",
   "metadata": {},
   "outputs": [],
   "source": [
    "def distance(lat1, lon1, lat2, lon2):\n",
    "  p = 0.017453292519943295 # Pi/180\n",
    "  a = 0.5 - np.cos((lat2 - lat1) * p)/2 + np.cos(lat1 * p) * np.cos(lat2 * p) * (1 - np.cos((lon2 - lon1) * p))/2\n",
    "  return 0.6213712 * 12742 * np.arcsin(np.sqrt(a))"
   ]
  },
  {
   "cell_type": "code",
   "execution_count": 10,
   "id": "90a8b95b",
   "metadata": {},
   "outputs": [],
   "source": [
    "df[\"distance_miles\"] = distance(df[\"latitude_of_pickup\"], df[\"longitude_of_pickup\"], \n",
    "                                      df[\"latitude_of_dropoff\"], df[\"latitude_of_dropoff\"])"
   ]
  },
  {
   "cell_type": "code",
   "execution_count": 11,
   "id": "984aa6d9",
   "metadata": {},
   "outputs": [
    {
     "data": {
      "text/html": [
       "<div>\n",
       "<style scoped>\n",
       "    .dataframe tbody tr th:only-of-type {\n",
       "        vertical-align: middle;\n",
       "    }\n",
       "\n",
       "    .dataframe tbody tr th {\n",
       "        vertical-align: top;\n",
       "    }\n",
       "\n",
       "    .dataframe thead th {\n",
       "        text-align: right;\n",
       "    }\n",
       "</style>\n",
       "<table border=\"1\" class=\"dataframe\">\n",
       "  <thead>\n",
       "    <tr style=\"text-align: right;\">\n",
       "      <th></th>\n",
       "      <th>unique_id</th>\n",
       "      <th>amount</th>\n",
       "      <th>date_time_of_pickup</th>\n",
       "      <th>longitude_of_pickup</th>\n",
       "      <th>latitude_of_pickup</th>\n",
       "      <th>longitude_of_dropoff</th>\n",
       "      <th>latitude_of_dropoff</th>\n",
       "      <th>no_of_passenger</th>\n",
       "      <th>distance_miles</th>\n",
       "    </tr>\n",
       "  </thead>\n",
       "  <tbody>\n",
       "    <tr>\n",
       "      <th>0</th>\n",
       "      <td>26:21.0</td>\n",
       "      <td>4.5</td>\n",
       "      <td>2009-06-15 17:26:21 UTC</td>\n",
       "      <td>-73.844311</td>\n",
       "      <td>40.721319</td>\n",
       "      <td>-73.841610</td>\n",
       "      <td>40.712278</td>\n",
       "      <td>1</td>\n",
       "      <td>5474.638781</td>\n",
       "    </tr>\n",
       "    <tr>\n",
       "      <th>1</th>\n",
       "      <td>52:16.0</td>\n",
       "      <td>16.9</td>\n",
       "      <td>2010-01-05 16:52:16 UTC</td>\n",
       "      <td>-74.016048</td>\n",
       "      <td>40.711303</td>\n",
       "      <td>-73.979268</td>\n",
       "      <td>40.782004</td>\n",
       "      <td>1</td>\n",
       "      <td>5480.556416</td>\n",
       "    </tr>\n",
       "  </tbody>\n",
       "</table>\n",
       "</div>"
      ],
      "text/plain": [
       "  unique_id  amount      date_time_of_pickup  longitude_of_pickup  \\\n",
       "0   26:21.0     4.5  2009-06-15 17:26:21 UTC           -73.844311   \n",
       "1   52:16.0    16.9  2010-01-05 16:52:16 UTC           -74.016048   \n",
       "\n",
       "   latitude_of_pickup  longitude_of_dropoff  latitude_of_dropoff  \\\n",
       "0           40.721319            -73.841610            40.712278   \n",
       "1           40.711303            -73.979268            40.782004   \n",
       "\n",
       "   no_of_passenger  distance_miles  \n",
       "0                1     5474.638781  \n",
       "1                1     5480.556416  "
      ]
     },
     "execution_count": 11,
     "metadata": {},
     "output_type": "execute_result"
    }
   ],
   "source": [
    "df.head(2)"
   ]
  },
  {
   "cell_type": "code",
   "execution_count": 12,
   "id": "856f591d",
   "metadata": {},
   "outputs": [
    {
     "data": {
      "image/png": "[encoded data removed]",
      "text/plain": [
       "<Figure size 864x288 with 1 Axes>"
      ]
     },
     "metadata": {
      "needs_background": "light"
     },
     "output_type": "display_data"
    }
   ],
   "source": [
    "df[\"distance_miles\"].hist(bins=50, figsize=(12,4))\n",
    "plt.title(\"Histogram ride distance in miles\");"
   ]
  },
  {
   "cell_type": "code",
   "execution_count": 13,
   "id": "f693931d",
   "metadata": {},
   "outputs": [
    {
     "data": {
      "text/plain": [
       "count    50000.000000\n",
       "mean      5374.124201\n",
       "std        739.603934\n",
       "min          0.000000\n",
       "25%       5476.097916\n",
       "50%       5477.504166\n",
       "75%       5478.866463\n",
       "max       7457.201172\n",
       "Name: distance_miles, dtype: float64"
      ]
     },
     "execution_count": 13,
     "metadata": {},
     "output_type": "execute_result"
    }
   ],
   "source": [
    "df[\"distance_miles\"].describe()"
   ]
  },
  {
   "cell_type": "code",
   "execution_count": 11,
   "id": "56409a28",
   "metadata": {},
   "outputs": [
    {
     "name": "stderr",
     "output_type": "stream",
     "text": [
      "C:\\Users\\vasiu\\AppData\\Local\\Temp\\ipykernel_22748\\3904693668.py:1: FutureWarning: Indexing with multiple keys (implicitly converted to a tuple of keys) will be deprecated, use a list instead.\n",
      "  df.groupby('no_of_passenger')['distance_miles','amount'].mean()\n"
     ]
    },
    {
     "data": {
      "text/html": [
       "<div>\n",
       "<style scoped>\n",
       "    .dataframe tbody tr th:only-of-type {\n",
       "        vertical-align: middle;\n",
       "    }\n",
       "\n",
       "    .dataframe tbody tr th {\n",
       "        vertical-align: top;\n",
       "    }\n",
       "\n",
       "    .dataframe thead th {\n",
       "        text-align: right;\n",
       "    }\n",
       "</style>\n",
       "<table border=\"1\" class=\"dataframe\">\n",
       "  <thead>\n",
       "    <tr style=\"text-align: right;\">\n",
       "      <th></th>\n",
       "      <th>distance_miles</th>\n",
       "      <th>amount</th>\n",
       "    </tr>\n",
       "    <tr>\n",
       "      <th>no_of_passenger</th>\n",
       "      <th></th>\n",
       "      <th></th>\n",
       "    </tr>\n",
       "  </thead>\n",
       "  <tbody>\n",
       "    <tr>\n",
       "      <th>0</th>\n",
       "      <td>5389.673163</td>\n",
       "      <td>9.414545</td>\n",
       "    </tr>\n",
       "    <tr>\n",
       "      <th>1</th>\n",
       "      <td>5369.911227</td>\n",
       "      <td>11.210226</td>\n",
       "    </tr>\n",
       "    <tr>\n",
       "      <th>2</th>\n",
       "      <td>5385.644740</td>\n",
       "      <td>12.013336</td>\n",
       "    </tr>\n",
       "    <tr>\n",
       "      <th>3</th>\n",
       "      <td>5392.010248</td>\n",
       "      <td>11.219359</td>\n",
       "    </tr>\n",
       "    <tr>\n",
       "      <th>4</th>\n",
       "      <td>5368.016913</td>\n",
       "      <td>11.459114</td>\n",
       "    </tr>\n",
       "    <tr>\n",
       "      <th>5</th>\n",
       "      <td>5370.108615</td>\n",
       "      <td>11.348665</td>\n",
       "    </tr>\n",
       "    <tr>\n",
       "      <th>6</th>\n",
       "      <td>5414.583735</td>\n",
       "      <td>12.535763</td>\n",
       "    </tr>\n",
       "  </tbody>\n",
       "</table>\n",
       "</div>"
      ],
      "text/plain": [
       "                 distance_miles     amount\n",
       "no_of_passenger                           \n",
       "0                   5389.673163   9.414545\n",
       "1                   5369.911227  11.210226\n",
       "2                   5385.644740  12.013336\n",
       "3                   5392.010248  11.219359\n",
       "4                   5368.016913  11.459114\n",
       "5                   5370.108615  11.348665\n",
       "6                   5414.583735  12.535763"
      ]
     },
     "execution_count": 11,
     "metadata": {},
     "output_type": "execute_result"
    }
   ],
   "source": [
    "df.groupby('no_of_passenger')['distance_miles','amount'].mean()"
   ]
  },
  {
   "cell_type": "code",
   "execution_count": 12,
   "id": "7f629375",
   "metadata": {},
   "outputs": [
    {
     "data": {
      "text/plain": [
       "Text(0.5, 1.0, 'Zoom in on distance < 15 mile and fare < $100')"
      ]
     },
     "execution_count": 12,
     "metadata": {},
     "output_type": "execute_result"
    },
    {
     "data": {
      "image/png": "[encoded data removed]",
      "text/plain": [
       "<Figure size 1152x432 with 2 Axes>"
      ]
     },
     "metadata": {
      "needs_background": "light"
     },
     "output_type": "display_data"
    }
   ],
   "source": [
    "fig, axs = plt.subplots(1, 2, figsize=(16,6))\n",
    "axs[0].scatter(df[\"distance_miles\"], df[\"amount\"], alpha=0.2)\n",
    "axs[0].set_xlabel(\"distance mile\")\n",
    "axs[0].set_ylabel(\"Fare $USD\")\n",
    "axs[0].set_title(\"All Data\")\n",
    "\n",
    "# Zoom-in some part of the data\n",
    "idx = ((df['distance_miles'] < 15) & (df[\"amount\"] < 100))\n",
    "axs[1].scatter(df[idx][\"distance_miles\"], df[idx][\"amount\"], alpha=0.2)\n",
    "axs[1].set_xlabel(\"distance mile\")\n",
    "axs[1].set_ylabel(\"Fare $USD\")\n",
    "axs[1].set_title(\"Zoom in on distance < 15 mile and fare < $100\")"
   ]
  },
  {
   "cell_type": "code",
   "execution_count": 13,
   "id": "97bad92a",
   "metadata": {},
   "outputs": [
    {
     "name": "stdout",
     "output_type": "stream",
     "text": [
      "Old size: 50000\n",
      "New size: 49086\n"
     ]
    }
   ],
   "source": [
    "idx = (df[\"distance_miles\"] >= 0.05)\n",
    "print('Old size: %d' % len(df))\n",
    "df = df[idx]\n",
    "print('New size: %d' % len(df))"
   ]
  },
  {
   "cell_type": "code",
   "execution_count": 17,
   "id": "16defe05",
   "metadata": {},
   "outputs": [],
   "source": [
    "df[\"fare_per_mile\"] = df[\"amount\"] / df[\"distance_miles\"]"
   ]
  },
  {
   "cell_type": "code",
   "execution_count": 18,
   "id": "4399af1f",
   "metadata": {},
   "outputs": [
    {
     "data": {
      "text/plain": [
       "count    49086.000000\n",
       "mean         0.002463\n",
       "std          0.065421\n",
       "min         -0.000913\n",
       "25%          0.001096\n",
       "50%          0.001551\n",
       "75%          0.002283\n",
       "max         13.409485\n",
       "Name: fare_per_mile, dtype: float64"
      ]
     },
     "execution_count": 18,
     "metadata": {},
     "output_type": "execute_result"
    }
   ],
   "source": [
    "df[\"fare_per_mile\"].describe()"
   ]
  },
  {
   "cell_type": "code",
   "execution_count": 20,
   "id": "285edc66",
   "metadata": {},
   "outputs": [
    {
     "data": {
      "text/plain": [
       "Text(0, 0.5, 'fare per distance in mile')"
      ]
     },
     "execution_count": 20,
     "metadata": {},
     "output_type": "execute_result"
    },
    {
     "data": {
      "image/png": "[encoded data removed]",
      "text/plain": [
       "<Figure size 432x288 with 1 Axes>"
      ]
     },
     "metadata": {
      "needs_background": "light"
     },
     "output_type": "display_data"
    }
   ],
   "source": [
    "idx = (df[\"distance_miles\"] < 3) & (df[\"amount\"] < 100)\n",
    "plt.scatter(df[idx][\"distance_miles\"], df[idx][\"fare_per_mile\"])\n",
    "plt.xlabel(\"distance in mile\")\n",
    "plt.ylabel(\"fare per distance in mile\")"
   ]
  },
  {
   "cell_type": "code",
   "execution_count": 6,
   "id": "a0fe739e",
   "metadata": {},
   "outputs": [],
   "source": [
    "X=df.drop(['amount'],axis=1)\n",
    "y=df[['amount']]"
   ]
  },
  {
   "cell_type": "code",
   "execution_count": 7,
   "id": "f514090e",
   "metadata": {},
   "outputs": [],
   "source": [
    "X = X.apply(pd.to_numeric, errors='coerce')\n",
    "y = y.apply(pd.to_numeric, errors='coerce')"
   ]
  },
  {
   "cell_type": "code",
   "execution_count": 8,
   "id": "e6cbf75e",
   "metadata": {},
   "outputs": [],
   "source": [
    "X.fillna(0, inplace=True)\n",
    "y.fillna(0, inplace=True)"
   ]
  },
  {
   "cell_type": "code",
   "execution_count": 9,
   "id": "c12b2f6c",
   "metadata": {},
   "outputs": [],
   "source": [
    "X_train, X_test, y_train, y_test = train_test_split(X, y, test_size=0.25,random_state=1)"
   ]
  },
  {
   "cell_type": "code",
   "execution_count": 7,
   "id": "e43f6e55",
   "metadata": {},
   "outputs": [
    {
     "data": {
      "text/plain": [
       "(37500, 7)"
      ]
     },
     "execution_count": 7,
     "metadata": {},
     "output_type": "execute_result"
    }
   ],
   "source": [
    "X_train.shape\n",
    " #y_train.shape"
   ]
  },
  {
   "cell_type": "code",
   "execution_count": 8,
   "id": "f717da60",
   "metadata": {},
   "outputs": [
    {
     "data": {
      "text/plain": [
       "(37500, 1)"
      ]
     },
     "execution_count": 8,
     "metadata": {},
     "output_type": "execute_result"
    }
   ],
   "source": [
    "y_train.shape"
   ]
  },
  {
   "cell_type": "code",
   "execution_count": 10,
   "id": "6b229b7c",
   "metadata": {},
   "outputs": [
    {
     "data": {
      "text/plain": [
       "LinearRegression()"
      ]
     },
     "execution_count": 10,
     "metadata": {},
     "output_type": "execute_result"
    }
   ],
   "source": [
    "model_1 = LinearRegression()\n",
    "model_1.fit(X_train,y_train)"
   ]
  },
  {
   "cell_type": "code",
   "execution_count": 10,
   "id": "93f7038f",
   "metadata": {},
   "outputs": [
    {
     "data": {
      "text/plain": [
       "-0.0007734828716712272"
      ]
     },
     "execution_count": 10,
     "metadata": {},
     "output_type": "execute_result"
    }
   ],
   "source": [
    "model_1.score(X_test,y_test)"
   ]
  },
  {
   "cell_type": "code",
   "execution_count": 11,
   "id": "6a6079d2",
   "metadata": {},
   "outputs": [],
   "source": [
    "from sklearn.tree import DecisionTreeClassifier"
   ]
  },
  {
   "cell_type": "code",
   "execution_count": 12,
   "id": "ea816aae",
   "metadata": {},
   "outputs": [
    {
     "name": "stderr",
     "output_type": "stream",
     "text": [
      "C:\\ProgramData\\Anaconda3\\lib\\site-packages\\sklearn\\preprocessing\\_label.py:115: DataConversionWarning: A column-vector y was passed when a 1d array was expected. Please change the shape of y to (n_samples, ), for example using ravel().\n",
      "  y = column_or_1d(y, warn=True)\n"
     ]
    }
   ],
   "source": [
    "from sklearn import preprocessing\n",
    "label_encoder = preprocessing.LabelEncoder()\n",
    "y_train = label_encoder.fit_transform(y_train)\n",
    "y_test = label_encoder.fit_transform(y_test)"
   ]
  },
  {
   "cell_type": "code",
   "execution_count": 15,
   "id": "02109366",
   "metadata": {},
   "outputs": [
    {
     "data": {
      "text/plain": [
       "DecisionTreeClassifier()"
      ]
     },
     "execution_count": 15,
     "metadata": {},
     "output_type": "execute_result"
    }
   ],
   "source": [
    "dtree=DecisionTreeClassifier(criterion=\"gini\")\n",
    "dtree.fit(X_train,y_train)"
   ]
  },
  {
   "cell_type": "code",
   "execution_count": 14,
   "id": "143fa063",
   "metadata": {},
   "outputs": [
    {
     "data": {
      "text/plain": [
       "0.98288"
      ]
     },
     "execution_count": 14,
     "metadata": {},
     "output_type": "execute_result"
    }
   ],
   "source": [
    "dtree.score(X_train,y_train)"
   ]
  },
  {
   "cell_type": "code",
   "execution_count": 15,
   "id": "daf14991",
   "metadata": {},
   "outputs": [
    {
     "data": {
      "text/plain": [
       "0.01944"
      ]
     },
     "execution_count": 15,
     "metadata": {},
     "output_type": "execute_result"
    }
   ],
   "source": [
    "dtree.score(X_test,y_test)"
   ]
  },
  {
   "cell_type": "code",
   "execution_count": 18,
   "id": "dfc0a763",
   "metadata": {},
   "outputs": [
    {
     "name": "stdout",
     "output_type": "stream",
     "text": [
      "0.05466666666666667\n"
     ]
    }
   ],
   "source": [
    "dTreeR=DecisionTreeClassifier(criterion=\"gini\",max_depth=3,random_state=0)\n",
    "dTreeR.fit(X_train,y_train)\n",
    "print(dTreeR.score(X_train,y_train))"
   ]
  },
  {
   "cell_type": "code",
   "execution_count": 19,
   "id": "0b43515c",
   "metadata": {},
   "outputs": [],
   "source": [
    "y_predict=dTreeR.predict(X_test)"
   ]
  },
  {
   "cell_type": "code",
   "execution_count": 18,
   "id": "b811007e",
   "metadata": {},
   "outputs": [
    {
     "name": "stdout",
     "output_type": "stream",
     "text": [
      "0.0236\n"
     ]
    }
   ],
   "source": [
    "print(dTreeR.score(X_test,y_test))"
   ]
  },
  {
   "cell_type": "code",
   "execution_count": 19,
   "id": "30b69eeb",
   "metadata": {},
   "outputs": [
    {
     "name": "stdout",
     "output_type": "stream",
     "text": [
      "0.003340955028011794\n"
     ]
    }
   ],
   "source": [
    "from sklearn.preprocessing import PolynomialFeatures\n",
    "from sklearn import linear_model\n",
    "\n",
    "poly=PolynomialFeatures(degree=2,interaction_only=True)\n",
    "X_train2=poly.fit_transform(X_train)\n",
    "X_test2=poly.fit_transform(X_test)\n",
    "\n",
    "poly_clf = linear_model.LinearRegression()\n",
    "\n",
    "poly_clf.fit(X_train2,y_train)\n",
    "\n",
    "print(poly_clf.score(X_train2,y_train))\n"
   ]
  },
  {
   "cell_type": "code",
   "execution_count": 20,
   "id": "c84115c9",
   "metadata": {},
   "outputs": [
    {
     "name": "stdout",
     "output_type": "stream",
     "text": [
      "-0.3358490274467225\n"
     ]
    }
   ],
   "source": [
    "print(poly_clf.score(X_test2,y_test))"
   ]
  },
  {
   "cell_type": "code",
   "execution_count": 21,
   "id": "7add1947",
   "metadata": {},
   "outputs": [
    {
     "name": "stdout",
     "output_type": "stream",
     "text": [
      "0.02432\n"
     ]
    }
   ],
   "source": [
    "from sklearn.ensemble import AdaBoostClassifier\n",
    "abcl=AdaBoostClassifier(n_estimators=120,random_state=0)\n",
    "abcl=abcl.fit(X_train,y_train)\n",
    "y_predict=abcl.predict(X_test)\n",
    "print(abcl.score(X_test,y_test))"
   ]
  },
  {
   "cell_type": "code",
   "execution_count": null,
   "id": "c53dbfb1",
   "metadata": {},
   "outputs": [],
   "source": [
    "from sklearn.ensemble import GradientBoostingClassifier\n",
    "gbcl=GradientBoostingClassifier(n_estimators=120,random_state=0)\n",
    "gbcl=gbcl.fit(X_train,y_train)\n",
    "y_predict=gbcl.predict(X_test)\n",
    "print(gbcl.score(X_test,y_test))"
   ]
  },
  {
   "cell_type": "code",
   "execution_count": null,
   "id": "0894155a",
   "metadata": {},
   "outputs": [],
   "source": [
    "from sklearn.ensemble import RandomForestClassifier\n",
    "rfcl=RandomForestClassifier(n_estimators=160,random_state=0,max_features=3)\n",
    "rfcl=rfcl.fit(X_train,y_train)"
   ]
  },
  {
   "cell_type": "code",
   "execution_count": null,
   "id": "1487d21b",
   "metadata": {},
   "outputs": [],
   "source": [
    "y_predict=rfcl.predict(X_test)\n",
    "print(rfcl.score(X_test,y_test))\n",
    "cm=metrics.confusion_matrix(y_test,y_predict,labels=[0,1])\n",
    "df_cm=pd.DataFrame(cm,index=[i for i in[\"No\",\"Yes\"]],\n",
    "                  columns=[i for i in[\"No\",\"Yes\"]])\n",
    "plt.figure(figsize=(7,5))\n",
    "sns.heatmap(df_cm,annot=True,fmt='g')"
   ]
  },
  {
   "cell_type": "code",
   "execution_count": null,
   "id": "b39e6a45",
   "metadata": {},
   "outputs": [],
   "source": []
  }
 ],
 "metadata": {
  "kernelspec": {
   "display_name": "Python 3 (ipykernel)",
   "language": "python",
   "name": "python3"
  },
  "language_info": {
   "codemirror_mode": {
    "name": "ipython",
    "version": 3
   },
   "file_extension": ".py",
   "mimetype": "text/x-python",
   "name": "python",
   "nbconvert_exporter": "python",
   "pygments_lexer": "ipython3",
   "version": "3.9.12"
  }
 },
 "nbformat": 4,
 "nbformat_minor": 5
}
